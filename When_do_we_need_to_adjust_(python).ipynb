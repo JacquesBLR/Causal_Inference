{
  "cells": [
    {
      "cell_type": "markdown",
      "metadata": {
        "id": "view-in-github",
        "colab_type": "text"
      },
      "source": [
        "<a href=\"https://colab.research.google.com/github/JacquesBLR/Causal_Inference/blob/main/When_do_we_need_to_adjust_(python).ipynb\" target=\"_parent\"><img src=\"https://colab.research.google.com/assets/colab-badge.svg\" alt=\"Open In Colab\"/></a>"
      ]
    },
    {
      "cell_type": "markdown",
      "metadata": {
        "id": "37683703-b3e4-428a-9bb4-c96aa56b70ce"
      },
      "source": [
        "# Exercise 1 - Solution\n",
        "\n",
        "# 1. RCT or A/B Test\n",
        "\n",
        "## 1.1 Data Simulation"
      ],
      "id": "37683703-b3e4-428a-9bb4-c96aa56b70ce"
    },
    {
      "cell_type": "code",
      "execution_count": null,
      "metadata": {
        "id": "8f23bd21"
      },
      "outputs": [],
      "source": [
        "from numpy.random import binomial, normal, seed\n",
        "from numpy import mean, unique\n",
        "\n",
        "seed(1234)\n",
        "n = 10000\n",
        "treatment = binomial(1, 0.5, size=n)\n",
        "outcome = binomial(1, 0.3, size=n) * treatment + binomial(1, 0.5, size=n) * (\n",
        "    1 - treatment\n",
        ")"
      ],
      "id": "8f23bd21"
    },
    {
      "cell_type": "markdown",
      "metadata": {
        "id": "a6919e9e-17c7-42b2-ab62-d6ce1993812d"
      },
      "source": [
        "## 1.2 Results\n",
        "\n",
        "-   $P(O=1|T=1) - P(O=1|T=0)$"
      ],
      "id": "a6919e9e-17c7-42b2-ab62-d6ce1993812d"
    },
    {
      "cell_type": "code",
      "execution_count": null,
      "metadata": {
        "id": "b32400b8",
        "outputId": "e6e6c708-1a3b-4da1-81be-da578a0f7511"
      },
      "outputs": [
        {
          "output_type": "stream",
          "name": "stdout",
          "text": [
            "-0.1810218929047634"
          ]
        }
      ],
      "source": [
        "print(mean(outcome[treatment==1]) - mean(outcome[treatment==0]))"
      ],
      "id": "b32400b8"
    },
    {
      "cell_type": "markdown",
      "metadata": {
        "id": "336f2c21-941e-4951-a25c-e1af4caa31c3"
      },
      "source": [
        "-   adjustment(1) - adjustment(0) doesn’t apply\n",
        "-   ATE = 0.3 - 0.5 = -0.2\n",
        "-   $\\hat{ATE} = P(O=1|do(T=1)) - P(O=1|do(T=0))$"
      ],
      "id": "336f2c21-941e-4951-a25c-e1af4caa31c3"
    },
    {
      "cell_type": "code",
      "execution_count": null,
      "metadata": {
        "id": "a8d66775",
        "outputId": "2d391c07-12d7-4b93-ce0a-4ef1a63123c0"
      },
      "outputs": [
        {
          "output_type": "stream",
          "name": "stdout",
          "text": [
            "-0.1810218929047634"
          ]
        }
      ],
      "source": [
        "print(mean(outcome[treatment==1]) - mean(outcome[treatment==0]))"
      ],
      "id": "a8d66775"
    },
    {
      "cell_type": "markdown",
      "metadata": {
        "id": "384079df-86dd-4886-a32c-4bccc0abce92"
      },
      "source": [
        "# 2. Adjustment formula"
      ],
      "id": "384079df-86dd-4886-a32c-4bccc0abce92"
    },
    {
      "cell_type": "code",
      "execution_count": null,
      "metadata": {
        "id": "3623a907"
      },
      "outputs": [],
      "source": [
        "def adjustment(t, o, z, t0):\n",
        "    ind_t0 = t == t0\n",
        "    z_values = unique(z)\n",
        "\n",
        "    adjusted_prob = 0\n",
        "    for z_ in z_values:\n",
        "        ind_z_ = z == z_\n",
        "        ind = ind_t0 & ind_z_\n",
        "        adjusted_prob = adjusted_prob + mean(o[ind]) * mean(ind_z_)\n",
        "    return adjusted_prob\n"
      ],
      "id": "3623a907"
    },
    {
      "cell_type": "markdown",
      "metadata": {
        "id": "83cde067-75eb-42c4-9d0c-cbcf137c823a"
      },
      "source": [
        "# 3. Confounder\n",
        "\n",
        "## 3.1 Data Simulation"
      ],
      "id": "83cde067-75eb-42c4-9d0c-cbcf137c823a"
    },
    {
      "cell_type": "code",
      "source": [
        "from graphviz import Digraph\n",
        "\n",
        "dot = Digraph()\n",
        "\n",
        "dot.node('T', 'Treatment')\n",
        "dot.node('Y', 'Outcome')\n",
        "dot.node('Z', 'Confounder')\n",
        "\n",
        "dot.edges([('Z', 'T'), ('Z', 'Y'), ('T', 'Y')])\n",
        "\n",
        "dot  # Affiche directement le DAG dans la cellule"
      ],
      "metadata": {
        "colab": {
          "base_uri": "https://localhost:8080/",
          "height": 272
        },
        "id": "c2xj5UdpHLQm",
        "outputId": "88b149c1-b837-45ce-e7bb-67634bf8d51b"
      },
      "id": "c2xj5UdpHLQm",
      "execution_count": 1,
      "outputs": [
        {
          "output_type": "execute_result",
          "data": {
            "image/svg+xml": "<?xml version=\"1.0\" encoding=\"UTF-8\" standalone=\"no\"?>\n<!DOCTYPE svg PUBLIC \"-//W3C//DTD SVG 1.1//EN\"\n \"http://www.w3.org/Graphics/SVG/1.1/DTD/svg11.dtd\">\n<!-- Generated by graphviz version 2.43.0 (0)\n -->\n<!-- Title: %3 Pages: 1 -->\n<svg width=\"145pt\" height=\"188pt\"\n viewBox=\"0.00 0.00 145.09 188.00\" xmlns=\"http://www.w3.org/2000/svg\" xmlns:xlink=\"http://www.w3.org/1999/xlink\">\n<g id=\"graph0\" class=\"graph\" transform=\"scale(1 1) rotate(0) translate(4 184)\">\n<title>%3</title>\n<polygon fill=\"white\" stroke=\"transparent\" points=\"-4,4 -4,-184 141.09,-184 141.09,4 -4,4\"/>\n<!-- T -->\n<g id=\"node1\" class=\"node\">\n<title>T</title>\n<ellipse fill=\"none\" stroke=\"black\" cx=\"47.45\" cy=\"-90\" rx=\"47.39\" ry=\"18\"/>\n<text text-anchor=\"middle\" x=\"47.45\" y=\"-86.3\" font-family=\"Times,serif\" font-size=\"14.00\">Treatment</text>\n</g>\n<!-- Y -->\n<g id=\"node2\" class=\"node\">\n<title>Y</title>\n<ellipse fill=\"none\" stroke=\"black\" cx=\"84.45\" cy=\"-18\" rx=\"43.59\" ry=\"18\"/>\n<text text-anchor=\"middle\" x=\"84.45\" y=\"-14.3\" font-family=\"Times,serif\" font-size=\"14.00\">Outcome</text>\n</g>\n<!-- T&#45;&gt;Y -->\n<g id=\"edge3\" class=\"edge\">\n<title>T&#45;&gt;Y</title>\n<path fill=\"none\" stroke=\"black\" d=\"M56.4,-72.05C60.72,-63.89 65.99,-53.91 70.8,-44.82\"/>\n<polygon fill=\"black\" stroke=\"black\" points=\"73.99,-46.27 75.57,-35.79 67.8,-42.99 73.99,-46.27\"/>\n</g>\n<!-- Z -->\n<g id=\"node3\" class=\"node\">\n<title>Z</title>\n<ellipse fill=\"none\" stroke=\"black\" cx=\"84.45\" cy=\"-162\" rx=\"52.79\" ry=\"18\"/>\n<text text-anchor=\"middle\" x=\"84.45\" y=\"-158.3\" font-family=\"Times,serif\" font-size=\"14.00\">Confounder</text>\n</g>\n<!-- Z&#45;&gt;T -->\n<g id=\"edge1\" class=\"edge\">\n<title>Z&#45;&gt;T</title>\n<path fill=\"none\" stroke=\"black\" d=\"M75.49,-144.05C71.17,-135.89 65.9,-125.91 61.1,-116.82\"/>\n<polygon fill=\"black\" stroke=\"black\" points=\"64.09,-114.99 56.32,-107.79 57.9,-118.27 64.09,-114.99\"/>\n</g>\n<!-- Z&#45;&gt;Y -->\n<g id=\"edge2\" class=\"edge\">\n<title>Z&#45;&gt;Y</title>\n<path fill=\"none\" stroke=\"black\" d=\"M92.34,-143.75C96.55,-133.58 101.3,-120.33 103.45,-108 106.19,-92.24 106.19,-87.76 103.45,-72 101.88,-63 98.93,-53.51 95.81,-45.09\"/>\n<polygon fill=\"black\" stroke=\"black\" points=\"99.06,-43.8 92.14,-35.78 92.55,-46.37 99.06,-43.8\"/>\n</g>\n</g>\n</svg>\n",
            "text/plain": [
              "<graphviz.graphs.Digraph at 0x7faa9ae2b8d0>"
            ]
          },
          "metadata": {},
          "execution_count": 1
        }
      ]
    },
    {
      "cell_type": "code",
      "execution_count": null,
      "metadata": {
        "id": "58500e45"
      },
      "outputs": [],
      "source": [
        "seed(1234)\n",
        "n = 10000\n",
        "confounder = binomial(1, 0.8, size=n)\n",
        "treatment = binomial(1, 0.6, size=n) * confounder + binomial(1, 0.2, size=n) * (\n",
        "    1 - confounder\n",
        ")\n",
        "outcome = (\n",
        "    binomial(1, 0.3, size=n) * treatment\n",
        "    + binomial(1, 0.5, size=n) * (1 - treatment)\n",
        "    + confounder\n",
        "    + normal(size=n)\n",
        ")"
      ],
      "id": "58500e45"
    },
    {
      "cell_type": "markdown",
      "metadata": {
        "id": "8589d5e5-eff0-4c78-8534-96aca3161907"
      },
      "source": [
        "## 3.2 Results\n",
        "\n",
        "-   $P(O=1|T=1) - P(O=1|T=0)$"
      ],
      "id": "8589d5e5-eff0-4c78-8534-96aca3161907"
    },
    {
      "cell_type": "code",
      "execution_count": null,
      "metadata": {
        "id": "ecef1db7",
        "outputId": "6f7dd8ea-3b61-41f6-f439-483e1feaa40e"
      },
      "outputs": [
        {
          "output_type": "stream",
          "name": "stdout",
          "text": [
            "0.02107032530615749"
          ]
        }
      ],
      "source": [
        "print(mean(outcome[treatment==1]) - mean(outcome[treatment==0]))"
      ],
      "id": "ecef1db7"
    },
    {
      "cell_type": "markdown",
      "metadata": {
        "id": "6288acae-a0ac-4ea0-8f0e-ba0344ff4d55"
      },
      "source": [
        "-   adjustment(1) - adjustment(0)"
      ],
      "id": "6288acae-a0ac-4ea0-8f0e-ba0344ff4d55"
    },
    {
      "cell_type": "code",
      "execution_count": null,
      "metadata": {
        "id": "66355488",
        "outputId": "14cb4835-2e61-4f25-fa1f-4331da337f24"
      },
      "outputs": [
        {
          "output_type": "stream",
          "name": "stdout",
          "text": [
            "-0.21901378090633217"
          ]
        }
      ],
      "source": [
        "print(adjustment(treatment, outcome, confounder, 1) - adjustment(treatment, outcome, confounder, 0))"
      ],
      "id": "66355488"
    },
    {
      "cell_type": "markdown",
      "metadata": {
        "id": "e6dcf989-0fc9-439d-a2f5-ebdf3e2b1362"
      },
      "source": [
        "-   ATE = 0.3 - 0.5 = -0.2\n",
        "-   $\\hat{ATE} = P(O=1|do(T=1)) - P(O=1|do(T=0))$"
      ],
      "id": "e6dcf989-0fc9-439d-a2f5-ebdf3e2b1362"
    },
    {
      "cell_type": "code",
      "execution_count": null,
      "metadata": {
        "id": "cd2ba396",
        "outputId": "bfdff3a0-7732-4c31-e301-f36423ce1700"
      },
      "outputs": [
        {
          "output_type": "stream",
          "name": "stdout",
          "text": [
            "-0.21901378090633217"
          ]
        }
      ],
      "source": [
        "print(adjustment(treatment, outcome, confounder, 1) - adjustment(treatment, outcome, confounder, 0))"
      ],
      "id": "cd2ba396"
    },
    {
      "cell_type": "markdown",
      "metadata": {
        "id": "a51f5497-e52c-4217-ae78-989aaa7a891f"
      },
      "source": [
        "# 4. Mediator\n",
        "\n",
        "## 4.1 Data Simulation"
      ],
      "id": "a51f5497-e52c-4217-ae78-989aaa7a891f"
    },
    {
      "cell_type": "code",
      "source": [
        "from graphviz import Digraph\n",
        "\n",
        "dot = Digraph()\n",
        "\n",
        "dot.node('T', 'Treatment')\n",
        "dot.node('Y', 'Outcome')\n",
        "dot.node('M', 'Mediator')\n",
        "\n",
        "dot.edges([('T', 'M'), ('M', 'Y'), ('T', 'Y')])\n",
        "\n",
        "dot  # Affiche directement le DAG dans la cellule"
      ],
      "metadata": {
        "colab": {
          "base_uri": "https://localhost:8080/",
          "height": 272
        },
        "id": "qRvcL7eEHe99",
        "outputId": "8a9eb761-6dff-4d70-f457-68e85078480a"
      },
      "id": "qRvcL7eEHe99",
      "execution_count": 2,
      "outputs": [
        {
          "output_type": "execute_result",
          "data": {
            "image/svg+xml": "<?xml version=\"1.0\" encoding=\"UTF-8\" standalone=\"no\"?>\n<!DOCTYPE svg PUBLIC \"-//W3C//DTD SVG 1.1//EN\"\n \"http://www.w3.org/Graphics/SVG/1.1/DTD/svg11.dtd\">\n<!-- Generated by graphviz version 2.43.0 (0)\n -->\n<!-- Title: %3 Pages: 1 -->\n<svg width=\"135pt\" height=\"188pt\"\n viewBox=\"0.00 0.00 134.99 188.00\" xmlns=\"http://www.w3.org/2000/svg\" xmlns:xlink=\"http://www.w3.org/1999/xlink\">\n<g id=\"graph0\" class=\"graph\" transform=\"scale(1 1) rotate(0) translate(4 184)\">\n<title>%3</title>\n<polygon fill=\"white\" stroke=\"transparent\" points=\"-4,4 -4,-184 130.99,-184 130.99,4 -4,4\"/>\n<!-- T -->\n<g id=\"node1\" class=\"node\">\n<title>T</title>\n<ellipse fill=\"none\" stroke=\"black\" cx=\"47.45\" cy=\"-162\" rx=\"47.39\" ry=\"18\"/>\n<text text-anchor=\"middle\" x=\"47.45\" y=\"-158.3\" font-family=\"Times,serif\" font-size=\"14.00\">Treatment</text>\n</g>\n<!-- Y -->\n<g id=\"node2\" class=\"node\">\n<title>Y</title>\n<ellipse fill=\"none\" stroke=\"black\" cx=\"47.45\" cy=\"-18\" rx=\"43.59\" ry=\"18\"/>\n<text text-anchor=\"middle\" x=\"47.45\" y=\"-14.3\" font-family=\"Times,serif\" font-size=\"14.00\">Outcome</text>\n</g>\n<!-- T&#45;&gt;Y -->\n<g id=\"edge3\" class=\"edge\">\n<title>T&#45;&gt;Y</title>\n<path fill=\"none\" stroke=\"black\" d=\"M40.56,-144.14C36.74,-133.88 32.39,-120.41 30.45,-108 27.97,-92.19 27.97,-87.81 30.45,-72 31.83,-63.18 34.43,-53.82 37.18,-45.46\"/>\n<polygon fill=\"black\" stroke=\"black\" points=\"40.54,-46.45 40.56,-35.86 33.94,-44.13 40.54,-46.45\"/>\n</g>\n<!-- M -->\n<g id=\"node3\" class=\"node\">\n<title>M</title>\n<ellipse fill=\"none\" stroke=\"black\" cx=\"83.45\" cy=\"-90\" rx=\"43.59\" ry=\"18\"/>\n<text text-anchor=\"middle\" x=\"83.45\" y=\"-86.3\" font-family=\"Times,serif\" font-size=\"14.00\">Mediator</text>\n</g>\n<!-- T&#45;&gt;M -->\n<g id=\"edge1\" class=\"edge\">\n<title>T&#45;&gt;M</title>\n<path fill=\"none\" stroke=\"black\" d=\"M56.16,-144.05C60.36,-135.89 65.49,-125.91 70.16,-116.82\"/>\n<polygon fill=\"black\" stroke=\"black\" points=\"73.35,-118.28 74.81,-107.79 67.13,-115.08 73.35,-118.28\"/>\n</g>\n<!-- M&#45;&gt;Y -->\n<g id=\"edge2\" class=\"edge\">\n<title>M&#45;&gt;Y</title>\n<path fill=\"none\" stroke=\"black\" d=\"M74.73,-72.05C70.53,-63.89 65.4,-53.91 60.73,-44.82\"/>\n<polygon fill=\"black\" stroke=\"black\" points=\"63.77,-43.08 56.08,-35.79 57.54,-46.28 63.77,-43.08\"/>\n</g>\n</g>\n</svg>\n",
            "text/plain": [
              "<graphviz.graphs.Digraph at 0x7faa99f37f90>"
            ]
          },
          "metadata": {},
          "execution_count": 2
        }
      ]
    },
    {
      "cell_type": "code",
      "execution_count": null,
      "metadata": {
        "id": "82e4d3f9"
      },
      "outputs": [],
      "source": [
        "seed(1234)\n",
        "n = 10000\n",
        "\n",
        "treatment = binomial(1, 0.4, size=n)\n",
        "mediator = binomial(1, 0.6, size=n) * treatment + binomial(1, 0.2, size=n) * (\n",
        "    1 - treatment\n",
        ")\n",
        "outcome = (\n",
        "    binomial(1, 0.4, size=n) * treatment\n",
        "    + binomial(1, 0.5, size=n) * (1 - treatment)\n",
        "    + mediator\n",
        "    + normal(size=n)\n",
        ")"
      ],
      "id": "82e4d3f9"
    },
    {
      "cell_type": "markdown",
      "metadata": {
        "id": "7bf93743-fd1e-4a5c-82c4-9f3ead3677f7"
      },
      "source": [
        "## 4.2 Results\n",
        "\n",
        "-   $P(O=1|T=1) - P(O=1|T=0)$"
      ],
      "id": "7bf93743-fd1e-4a5c-82c4-9f3ead3677f7"
    },
    {
      "cell_type": "code",
      "execution_count": null,
      "metadata": {
        "id": "6f49ce6e",
        "outputId": "14e72e3d-728c-4e2d-cb05-e08a80071cd6"
      },
      "outputs": [
        {
          "output_type": "stream",
          "name": "stdout",
          "text": [
            "0.29470156607738807"
          ]
        }
      ],
      "source": [
        "print(mean(outcome[treatment==1]) - mean(outcome[treatment==0]))"
      ],
      "id": "6f49ce6e"
    },
    {
      "cell_type": "markdown",
      "metadata": {
        "id": "c37f4e4d-50cc-4c1c-ba0c-896202ba2888"
      },
      "source": [
        "-   adjustment(1) - adjustment(0)"
      ],
      "id": "c37f4e4d-50cc-4c1c-ba0c-896202ba2888"
    },
    {
      "cell_type": "code",
      "execution_count": null,
      "metadata": {
        "id": "7e7545a9",
        "outputId": "2468043f-09a6-4a18-98dd-27a711d49bd8"
      },
      "outputs": [
        {
          "output_type": "stream",
          "name": "stdout",
          "text": [
            "-0.10511006573608273"
          ]
        }
      ],
      "source": [
        "print(adjustment(treatment, outcome, mediator, 1) - adjustment(treatment, outcome, mediator, 0))"
      ],
      "id": "7e7545a9"
    },
    {
      "cell_type": "markdown",
      "metadata": {
        "id": "2cf43d65-ae8a-4219-a316-f61ccb34dab0"
      },
      "source": [
        "-   ATE = (0.6 + 0.4) - (0.2 + 0.5) = 0.3\n",
        "-   $\\hat{ATE} = P(O=1|do(T=1)) - P(O=1|do(T=0))$"
      ],
      "id": "2cf43d65-ae8a-4219-a316-f61ccb34dab0"
    },
    {
      "cell_type": "code",
      "execution_count": null,
      "metadata": {
        "id": "eac299fa",
        "outputId": "d5cd3a6a-435f-4cd8-82ed-c0aa6b1d8e55"
      },
      "outputs": [
        {
          "output_type": "stream",
          "name": "stdout",
          "text": [
            "0.29470156607738807"
          ]
        }
      ],
      "source": [
        "print(mean(outcome[treatment==1]) - mean(outcome[treatment==0]))"
      ],
      "id": "eac299fa"
    },
    {
      "cell_type": "markdown",
      "metadata": {
        "id": "f37be4b6-6ddd-48bf-bd4c-4dce46e1b603"
      },
      "source": [
        "# 5. Predictor\n",
        "\n",
        "## 5.1 Data Simulation"
      ],
      "id": "f37be4b6-6ddd-48bf-bd4c-4dce46e1b603"
    },
    {
      "cell_type": "code",
      "source": [
        "from graphviz import Digraph\n",
        "\n",
        "dot = Digraph()\n",
        "\n",
        "dot.node('T', 'Treatment')\n",
        "dot.node('Y', 'Outcome')\n",
        "dot.node('P', 'Predictor')\n",
        "\n",
        "dot.edges([('P', 'Y'), ('T', 'Y')])\n",
        "\n",
        "dot  # Affiche directement le DAG dans la cellule"
      ],
      "metadata": {
        "colab": {
          "base_uri": "https://localhost:8080/",
          "height": 176
        },
        "id": "xt0R1fhxHsnV",
        "outputId": "8832c1d0-d091-4de4-873c-61910e26de60"
      },
      "id": "xt0R1fhxHsnV",
      "execution_count": 3,
      "outputs": [
        {
          "output_type": "execute_result",
          "data": {
            "image/svg+xml": "<?xml version=\"1.0\" encoding=\"UTF-8\" standalone=\"no\"?>\n<!DOCTYPE svg PUBLIC \"-//W3C//DTD SVG 1.1//EN\"\n \"http://www.w3.org/Graphics/SVG/1.1/DTD/svg11.dtd\">\n<!-- Generated by graphviz version 2.43.0 (0)\n -->\n<!-- Title: %3 Pages: 1 -->\n<svg width=\"206pt\" height=\"116pt\"\n viewBox=\"0.00 0.00 206.34 116.00\" xmlns=\"http://www.w3.org/2000/svg\" xmlns:xlink=\"http://www.w3.org/1999/xlink\">\n<g id=\"graph0\" class=\"graph\" transform=\"scale(1 1) rotate(0) translate(4 112)\">\n<title>%3</title>\n<polygon fill=\"white\" stroke=\"transparent\" points=\"-4,4 -4,-112 202.34,-112 202.34,4 -4,4\"/>\n<!-- T -->\n<g id=\"node1\" class=\"node\">\n<title>T</title>\n<ellipse fill=\"none\" stroke=\"black\" cx=\"47.45\" cy=\"-90\" rx=\"47.39\" ry=\"18\"/>\n<text text-anchor=\"middle\" x=\"47.45\" y=\"-86.3\" font-family=\"Times,serif\" font-size=\"14.00\">Treatment</text>\n</g>\n<!-- Y -->\n<g id=\"node2\" class=\"node\">\n<title>Y</title>\n<ellipse fill=\"none\" stroke=\"black\" cx=\"101.45\" cy=\"-18\" rx=\"43.59\" ry=\"18\"/>\n<text text-anchor=\"middle\" x=\"101.45\" y=\"-14.3\" font-family=\"Times,serif\" font-size=\"14.00\">Outcome</text>\n</g>\n<!-- T&#45;&gt;Y -->\n<g id=\"edge2\" class=\"edge\">\n<title>T&#45;&gt;Y</title>\n<path fill=\"none\" stroke=\"black\" d=\"M60.24,-72.41C66.9,-63.78 75.17,-53.06 82.55,-43.5\"/>\n<polygon fill=\"black\" stroke=\"black\" points=\"85.4,-45.53 88.74,-35.47 79.86,-41.25 85.4,-45.53\"/>\n</g>\n<!-- P -->\n<g id=\"node3\" class=\"node\">\n<title>P</title>\n<ellipse fill=\"none\" stroke=\"black\" cx=\"155.45\" cy=\"-90\" rx=\"42.79\" ry=\"18\"/>\n<text text-anchor=\"middle\" x=\"155.45\" y=\"-86.3\" font-family=\"Times,serif\" font-size=\"14.00\">Predictor</text>\n</g>\n<!-- P&#45;&gt;Y -->\n<g id=\"edge1\" class=\"edge\">\n<title>P&#45;&gt;Y</title>\n<path fill=\"none\" stroke=\"black\" d=\"M142.92,-72.76C136.27,-64.14 127.96,-53.36 120.52,-43.73\"/>\n<polygon fill=\"black\" stroke=\"black\" points=\"123.16,-41.41 114.28,-35.63 117.61,-45.69 123.16,-41.41\"/>\n</g>\n</g>\n</svg>\n",
            "text/plain": [
              "<graphviz.graphs.Digraph at 0x7faa9aa460d0>"
            ]
          },
          "metadata": {},
          "execution_count": 3
        }
      ]
    },
    {
      "cell_type": "code",
      "execution_count": null,
      "metadata": {
        "id": "d2a01f9f"
      },
      "outputs": [],
      "source": [
        "seed(1234)\n",
        "n = 10000\n",
        "\n",
        "treatment = binomial(1, 0.4, size=n)\n",
        "predictor = binomial(1, 0.4, size=n)\n",
        "outcome = (\n",
        "    binomial(1, 0.4, size=n) * treatment\n",
        "    + binomial(1, 0.5, size=n) * (1 - treatment)\n",
        "    + predictor\n",
        "    + normal(size=n)\n",
        ")"
      ],
      "id": "d2a01f9f"
    },
    {
      "cell_type": "markdown",
      "metadata": {
        "id": "dbc14c8d-582b-4e18-b90c-7250dbc45a76"
      },
      "source": [
        "## 5.2 Results\n",
        "\n",
        "-   $P(O=1|T=1) - P(O=1|T=0)$"
      ],
      "id": "dbc14c8d-582b-4e18-b90c-7250dbc45a76"
    },
    {
      "cell_type": "code",
      "execution_count": null,
      "metadata": {
        "id": "4c98c41f",
        "outputId": "a65cea39-0f81-43e8-a7d6-8ec3ea89798f"
      },
      "outputs": [
        {
          "output_type": "stream",
          "name": "stdout",
          "text": [
            "-0.07386507504710504"
          ]
        }
      ],
      "source": [
        "print(mean(outcome[treatment==1]) - mean(outcome[treatment==0]))"
      ],
      "id": "4c98c41f"
    },
    {
      "cell_type": "markdown",
      "metadata": {
        "id": "e961a85e-193e-49bc-91ac-9a3808f83bc0"
      },
      "source": [
        "-   adjustment(1) - adjustment(0)"
      ],
      "id": "e961a85e-193e-49bc-91ac-9a3808f83bc0"
    },
    {
      "cell_type": "code",
      "execution_count": null,
      "metadata": {
        "id": "bfb0f41c",
        "outputId": "67e79a46-b981-4197-a9a3-c7608036e122"
      },
      "outputs": [
        {
          "output_type": "stream",
          "name": "stdout",
          "text": [
            "-0.08193645550537232"
          ]
        }
      ],
      "source": [
        "print(adjustment(treatment, outcome, predictor, 1) - adjustment(treatment, outcome, predictor, 0))"
      ],
      "id": "bfb0f41c"
    },
    {
      "cell_type": "markdown",
      "metadata": {
        "id": "37181130-8463-44ff-9c88-d17b4330d6e2"
      },
      "source": [
        "-   ATE = 0.4 - 0.5 = -0.1\n",
        "\n",
        "$\\hat{ATE}$ has two unbiased estimators\n",
        "\n",
        "-   $\\hat{ATE} = P(O=1|do(T=1)) - P(O=1|do(T=0))$"
      ],
      "id": "37181130-8463-44ff-9c88-d17b4330d6e2"
    },
    {
      "cell_type": "code",
      "execution_count": null,
      "metadata": {
        "id": "98d5db41",
        "outputId": "4fe5525f-cee3-472b-e537-240d4d77c6a0"
      },
      "outputs": [
        {
          "output_type": "stream",
          "name": "stdout",
          "text": [
            "-0.07386507504710504"
          ]
        }
      ],
      "source": [
        "print(mean(outcome[treatment==1]) - mean(outcome[treatment==0]))"
      ],
      "id": "98d5db41"
    },
    {
      "cell_type": "markdown",
      "metadata": {
        "id": "022f4544-5f13-4cc9-a1df-85d1307d21cb"
      },
      "source": [
        "-   $\\hat{ATE} = P(O=1|do(T=1)) - P(O=1|do(T=0))$"
      ],
      "id": "022f4544-5f13-4cc9-a1df-85d1307d21cb"
    },
    {
      "cell_type": "code",
      "execution_count": null,
      "metadata": {
        "id": "72896971",
        "outputId": "609c9843-44ed-4222-c1c0-c1abf7fac9ca"
      },
      "outputs": [
        {
          "output_type": "stream",
          "name": "stdout",
          "text": [
            "-0.08193645550537232"
          ]
        }
      ],
      "source": [
        "print(adjustment(treatment, outcome, predictor, 1) - adjustment(treatment, outcome, predictor, 0))"
      ],
      "id": "72896971"
    },
    {
      "cell_type": "markdown",
      "metadata": {
        "id": "53b02dfd-0f49-4fc8-bb53-56a89f243562"
      },
      "source": [
        "# 6. Unobserved Confounder\n",
        "\n",
        "## 6.1 Data Simulation"
      ],
      "id": "53b02dfd-0f49-4fc8-bb53-56a89f243562"
    },
    {
      "cell_type": "code",
      "execution_count": null,
      "metadata": {
        "id": "979f1a73"
      },
      "outputs": [],
      "source": [
        "seed(1234)\n",
        "n = 10000\n",
        "confounder = binomial(1, 0.8, size=n)\n",
        "treatment = binomial(1, 0.6, size=n) * confounder + binomial(1, 0.2, size=n) * (\n",
        "    1 - confounder\n",
        ")\n",
        "outcome = (\n",
        "    binomial(1, 0.3, size=n) * treatment\n",
        "    + binomial(1, 0.5, size=n) * (1 - treatment)\n",
        "    + confounder\n",
        "    + normal(size=n)\n",
        ")"
      ],
      "id": "979f1a73"
    },
    {
      "cell_type": "markdown",
      "metadata": {
        "id": "c55453cf-6954-43bf-bc3c-39572ec20ef5"
      },
      "source": [
        "## 6.2 Results\n",
        "\n",
        "-   $P(O=1|T=1) - P(O=1|T=0)$"
      ],
      "id": "c55453cf-6954-43bf-bc3c-39572ec20ef5"
    },
    {
      "cell_type": "code",
      "execution_count": null,
      "metadata": {
        "id": "432f21fd",
        "outputId": "606d5d9d-3124-4525-ef73-c44b4f839f21"
      },
      "outputs": [
        {
          "output_type": "stream",
          "name": "stdout",
          "text": [
            "0.02107032530615749"
          ]
        }
      ],
      "source": [
        "print(mean(outcome[treatment==1]) - mean(outcome[treatment==0]))"
      ],
      "id": "432f21fd"
    },
    {
      "cell_type": "markdown",
      "metadata": {
        "id": "2af960ab-0876-4b15-af1a-78347bc1ab8b"
      },
      "source": [
        "-   adjustment(1) - adjustment(0) cannot be calculated\n",
        "-   ATE = -0.2\n",
        "-   $\\hat{ATE} = P(O=1|do(T=1)) - P(O=1|do(T=0))$ cannot be calculated\n",
        "\n",
        "# 7. Part II\n",
        "\n",
        "$P^{do(C:=2)}(E) = P(E|C=2) \\sim N(2, 1)$\n",
        "\n",
        "$P^{do(E:=2)}(C) \\sim N(0, 1) ≠ P(C|E=2) = P(N1| N1+N2=2) \\sim N(1, (1/2)1/2)$"
      ],
      "id": "2af960ab-0876-4b15-af1a-78347bc1ab8b"
    }
  ],
  "nbformat": 4,
  "nbformat_minor": 5,
  "metadata": {
    "kernelspec": {
      "name": "python3",
      "display_name": "Python 3 (ipykernel)",
      "language": "python"
    },
    "language_info": {
      "name": "python",
      "codemirror_mode": {
        "name": "ipython",
        "version": "3"
      },
      "file_extension": ".py",
      "mimetype": "text/x-python",
      "nbconvert_exporter": "python",
      "pygments_lexer": "ipython3",
      "version": "3.10.9"
    },
    "colab": {
      "provenance": [],
      "include_colab_link": true
    }
  }
}
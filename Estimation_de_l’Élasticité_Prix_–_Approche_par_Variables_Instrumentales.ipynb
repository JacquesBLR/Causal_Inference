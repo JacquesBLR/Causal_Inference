{
  "nbformat": 4,
  "nbformat_minor": 0,
  "metadata": {
    "colab": {
      "provenance": [],
      "authorship_tag": "ABX9TyP+zk/oHHj8u27FSvpu/lTp",
      "include_colab_link": true
    },
    "kernelspec": {
      "name": "python3",
      "display_name": "Python 3"
    },
    "language_info": {
      "name": "python"
    }
  },
  "cells": [
    {
      "cell_type": "markdown",
      "metadata": {
        "id": "view-in-github",
        "colab_type": "text"
      },
      "source": [
        "<a href=\"https://colab.research.google.com/github/JacquesBLR/Causal_Inference/blob/main/Estimation_de_l%E2%80%99%C3%89lasticit%C3%A9_Prix_%E2%80%93_Approche_par_Variables_Instrumentales.ipynb\" target=\"_parent\"><img src=\"https://colab.research.google.com/assets/colab-badge.svg\" alt=\"Open In Colab\"/></a>"
      ]
    },
    {
      "cell_type": "markdown",
      "source": [
        "# Contexte"
      ],
      "metadata": {
        "id": "BsGGjAMw2JXp"
      }
    },
    {
      "cell_type": "markdown",
      "source": [
        "Une entreprise de distribution veut **quantifier l’effet causal du prix sur les ventes d’un produit\n",
        "(l’élasticité prix)**.  \n",
        "En marketing, la question “de combien une baisse de prix va-t-elle augmenter les\n",
        "ventes ?” est cruciale pour la tarification.  \n",
        "Cependant, **mesurer cet effet est difficile car en données\n",
        "observationnelles, le prix et la demande sont corrélés par de multiples mécanismes**.  \n",
        "Par exemple, si on observe une corrélation positive entre prix et ventes sur l’historique, ce n’est pas forcément parce\n",
        "qu’un **prix élevé stimule les ventes (peu plausible !)**, mais peut-être parce que **l’entreprise augmente les\n",
        "prix lorsque la demande est forte** (causalité inverse) ou que des facteurs confondants (saison,\n",
        "promotion, qualité du produit) influencent les deux.  \n",
        "Dans ce cas, **un A/B test direct est souvent impossible** : on ne peut pas facilement proposer\n",
        "simultanément deux prix différents sur le même marché sans biais (sauf à faire des tests\n",
        "géographiques contrôlés, mais supposons que ce n’est pas fait ici).  \n",
        "**On recourt alors aux variables\n",
        "instrumentales (VI) pour estimer l’impact du prix de manière causale**.  \n",
        "**Idée d’une variable instrumentale : trouver un facteur extérieur qui influence le prix, mais\n",
        "n’influence pas directement la demande, de sorte qu’il crée une variation “quasi-expérimentale” du prix**.  \n",
        "On utilisera cette variation exogène pour estimer l’effet sur les ventes.\n",
        "  \n",
        "  **Classiquement en économie, le coût de production/matière première est un bon candidat : si le coût augmente, l’entreprise peut répercuter en partie sur le prix.**  \n",
        "**Le coût est corrélé au prix, mais n’affecte pas la demande des consommateurs** (ceux-ci ne connaissent pas le coût interne). Ici, on supposera que les\n",
        "fluctuations de coût sont indépendantes de la demande des clients (pas de corrélation avec les\n",
        "préférences ou la saisonnalité par ex.).  \n",
        "En pratique, on dispose d’un historique (ou panel) avec par exemple :  \n",
        "colonnes *semaine* , *prix_unitaire* , *ventes_unites* , et *cout_unitaire* du produit (ainsi que d’autres variables de contrôle éventuelles comme des tendances, etc.).  \n",
        "L’objectif est d’**estimer l’élasticité (la variation % des\n",
        "ventes pour 1% de variation du prix)** ou du moins la pente de la relation causal ventes-prix. On va\n",
        "comparer :\n",
        "- Régression OLS naïve ventes ~ prix : biaisée si le prix est **endogène** (corrélé à l’erreur).\n",
        "- Régression IV (2SLS) ventes ~ prix en utilisant cout comme instrument du prix : on espère corriger\n",
        "le biais et obtenir une estimation non entachée par la **causalité inverse** ou les confounders non observés"
      ],
      "metadata": {
        "id": "2jiMGwdv2MiL"
      }
    },
    {
      "cell_type": "markdown",
      "source": [
        "# Données\n",
        "\n",
        "Nous utiliserons un jeu de données de vente d'un produit sur N périodes (jours,\n",
        "semaines…). On doit avoir suffisamment de variation en prix et coût.  \n",
        "Les données simulées respectent le modèle :\n",
        "Générer des chocs de demande aléatoires *u* qui influent sur les ventes.  \n",
        "Générer des coûts aléatoires *cout* indépendants de *u* .  \n",
        "**Modèle de pricing :** **prix = baseline + α * cout + β * u + ...**  \n",
        "(l’entreprise fixe le prix en fonction du coût et peut-être un peu en fonction de la demande anticipée u , ce qui cause\n",
        "l’endogénéité en corrélant prix et u).  \n",
        "**Modèle de demande : ventes = gamma - δ * prix + γ * u + ...**   \n",
        "(les consommateurs achètent moins si le prix est haut, et u affecte aussi les ventes – par ex. *u* représente un\n",
        "engouement exogène).  \n",
        "Dans ce modèle, **le prix est corrélé avec u (car l’entreprise ajuste en partie sur u), et u influence aussi les ventes.  \n",
        "Donc la corrélation prix-ventes sera biaisée**.  \n",
        "En revanche, le coût n’affecte pas directement les\n",
        "ventes (seul effet est via prix), donc le coût peut servir d’instrument valide pour le prix (corrélé au prix,\n",
        "indépendant de u par construction).\n"
      ],
      "metadata": {
        "id": "eQa2Apo27JBj"
      }
    },
    {
      "cell_type": "markdown",
      "source": [
        "# Méthode et analyse\n",
        "**1. Analyse naïve (OLS)** :  \n",
        "On estime la régression simple ventes = a + b * prix + erreur par\n",
        "OLS.  \n",
        "En Python avec statsmodels ou en R avec lm.  \n",
        "On observe le coefficient $b_{\\text{OLS}}$.  \n",
        "On le compare à la vraie élasticité si on la connaît (dans une simulation on la connaît par construction).  \n",
        "Souvent, $b_{\\text{OLS}}$ sera biaisé vers 0 ou de signe opposé si l’endogénéité est forte.  \n",
        "Par exemple,\n",
        "on pourrait obtenir une pente faiblement négative alors que la vraie relation est fortement négative.\n",
        "Dans certains cas extrêmes, OLS pourrait même donner un coefficient positif si le biais est très fort (ce\n",
        "qui aurait signifié plus le prix est haut, plus on vend, paradoxal).  \n",
        "\n",
        "**2. Estimation par variable instrumentale (2SLS)** :   \n",
        "On applique la méthode en deux étapes :  \n",
        "- Première étape: régression du prix sur l’instrument (et éventuellement d’autres contrôles).  \n",
        "Ici **prix = a1 + c * cout + ...** . On obtient le prix “prédit” influencé seulement par la partie\n",
        "exogène (le coût).\n",
        "- Deuxième étape: régression des ventes sur le prix prédit :  \n",
        ". **ventes = a2 + b_{\\text{IV}} x prix_prédit + ...**. Le coefficient $b_{\\text{IV}}$ est l’estimation de l’effet causal du prix sur les\n",
        "ventes."
      ],
      "metadata": {
        "id": "w-WCZ_DT9w8W"
      }
    },
    {
      "cell_type": "markdown",
      "source": [
        "En Python, il n’y a pas de package standard de VI dans la bibliothèque standard, mais on peut\n",
        "facilement coder ces deux étapes ou utiliser linearmodels si installé. En R, on utilisera le package\n",
        "AER ( ivreg ) ou la fonction TSLS du package sem pour aller plus vite."
      ],
      "metadata": {
        "id": "H-Wcxigs_a12"
      }
    },
    {
      "cell_type": "code",
      "source": [
        "import numpy as np\n",
        "import pandas as pd\n",
        "import statsmodels.api as sm\n",
        "np.random.seed(7)\n",
        "N = 200\n",
        "# Variables exogènes\n",
        "demand_shock = np.random.normal(0, 1, N) # choc de demande (non observé en pratique)\n",
        "cost = np.random.normal(0, 1, N) # coût matière\n",
        "# Générer prix en fonction de coût et (malheureusement) partiellement du choc de demande\n",
        "price = 100 + 3 * cost + 5 * demand_shock\n",
        "# l'entreprise répercute coûts et anticipe demande\n",
        "# Générer ventes en fonction du prix et du choc de demande\n",
        "sales = 1000 - 10 * price + 30 * demand_shock + np.random.normal(0, 10, N)\n",
        "data = pd.DataFrame({'prix': price, 'ventes': sales, 'cout': cost})\n",
        "# Régression OLS naïve: ventes ~ prix\n",
        "ols_model = sm.OLS(data['ventes'], sm.add_constant(data[['prix']])).fit()\n",
        "print(\"OLS Coefficient prix = {:.2f}, p-value = {:.3f}\".format(ols_model.params['prix'], ols_model.pvalues['prix']))\n",
        "# Régression IV en deux étapes:\n",
        "# 1ère étape: prix ~ cout\n",
        "fs_model = sm.OLS(data['prix'], sm.add_constant(data[['cout']])).fit()\n",
        "data['prix_chap'] = fs_model.predict(sm.add_constant(data[['cout']]))\n",
        "# 2ème étape: ventes ~ prix_chap\n",
        "ss_model = sm.OLS(data['ventes'], sm.add_constant(data[['prix_chap']])).fit()\n",
        "print(\"IV Coefficient prix = {:.2f}, p-value = {:.3f}\".format(ss_model.params['prix_chap'], ss_model.pvalues['prix_chap']))"
      ],
      "metadata": {
        "colab": {
          "base_uri": "https://localhost:8080/"
        },
        "id": "uCkxVy9w4ab5",
        "outputId": "cb7000c3-8601-451f-d410-065a0c5d7f5e"
      },
      "execution_count": 1,
      "outputs": [
        {
          "output_type": "stream",
          "name": "stdout",
          "text": [
            "OLS Coefficient prix = -5.47, p-value = 0.000\n",
            "IV Coefficient prix = -10.18, p-value = 0.000\n"
          ]
        }
      ]
    },
    {
      "cell_type": "markdown",
      "source": [
        "Ici, l’OLS naïf estime qu’augmenter le prix d’1 unité fait baisser les ventes d’environ 5.5 unités (b = -5.47).  \n",
        "La méthode par VI estime une pente d’environ -10.2, proche de la véritable valeur -10 utilisée dans la\n",
        "simulation.  \n",
        "La différence est massive : **OLS sous-estimait de moitié l’effet du prix**.\n",
        "\n",
        " Pourquoi ? Parce que\n",
        "dans les données, chaque fois que la demande latente était forte (demand_shock élevé), le prix avait\n",
        "tendance à être relevé et les ventes finissaient de toute façon plus élevées, ce qui a atténué\n",
        "artificiellement la pente observée.  \n",
        "L’instrument “coût”, lui, fournit une variation de prix indépendante de\n",
        "la demande, révélant l’effet réel : **quand le coût (et donc le prix) monte, la demande réagit fortement à\n",
        "la baisse**."
      ],
      "metadata": {
        "id": "oxgPm99q_keG"
      }
    },
    {
      "cell_type": "markdown",
      "source": [
        "**3. Vérifications et interprétation :**   \n",
        "Vérifier la pertinence de l’instrument : on peut regarder la régression de première étape prix ~ cout , **le coefficient de cout\n",
        "doit être clairement non nul (ici ~3.0) et significatif**.  \n",
        "**Un test F de l'instrument > 10 est un critère classique de force de l’instrument**.  \n",
        "Dans notre script, on peut imprimer fs_model.rsquared ou le F-stat.  \n",
        "Si l’instrument est faible (peu corrélé au prix), l’estimation IV sera peu fiable (erreurs-types grandes). Ici ce n’est pas le cas."
      ],
      "metadata": {
        "id": "1CbYunZWAVQf"
      }
    },
    {
      "cell_type": "markdown",
      "source": [
        "**Hypothèse d’exclusion :**  \n",
        "Peut-on raisonnablement penser que les fluctuations de coût\n",
        "n’affectent les ventes qu’à travers le prix ?  \n",
        "Dans un contexte réel, il faut y réfléchir : si une hausse de coût\n",
        "entraîne aussi une baisse de qualité du produit ou moins de pub (pour compenser marge), alors cout\n",
        "influencerait les ventes autrement que via le prix – l’instrument ne serait plus valide. On supppose ici\n",
        "que ce n’est pas le cas"
      ],
      "metadata": {
        "id": "NacbxIqoBFyX"
      }
    },
    {
      "cell_type": "markdown",
      "source": [
        "**Interprétation du coefficient** :  \n",
        "$b_{\\text{IV}} \\approx -10.2$ **signifie “toute chose égale par ailleurs, une\n",
        "hausse de 1€ du prix entraîne une baisse d’environ 10 unités vendues” sur la période considérée**.  \n",
        "On peut\n",
        "convertir en élasticité : élasticité $= b * \\frac{\\bar{prix}}{\\bar{ventes}}$.  \n",
        " Si par ex. prix moyen ~100€, ventes moy ~1000 unités, alors élasticité ~ $-10 * (100/1000) = -1.0$, soit une élasticité de -1 (chaque\n",
        "+1% prix => -1% ventes)."
      ],
      "metadata": {
        "id": "5zkO3J4eBM6A"
      }
    },
    {
      "cell_type": "markdown",
      "source": [
        "**4. Utilisation du résultat** :  \n",
        "Avec une telle estimation, l’entreprise peut simuler des scenarios de\n",
        "tarification.  \n",
        "Par ex, b_IV = -10 signifie baisser le prix de 5€ augmenterait les ventes de ~50 unités.  \n",
        "Mais attention, cela suppose rester dans la plage de données observée ; une extrapolation trop loin peut être\n",
        "risquée (élasticité non linéaire, segments de clients saturés, etc.).  \n",
        "On discute aussi de la confiance : un intervalle de confiance peut être calculé pour b_IV (via summary(iv) on l’a).  \n",
        "Si l’intervalle exclut 0\n",
        "largement, on est confiant qu’il y a bien une relation négative significative."
      ],
      "metadata": {
        "id": "ZIekKwtLBokk"
      }
    },
    {
      "cell_type": "markdown",
      "source": [
        "# Discussion : hypothèses, limites, interprétation\n",
        "\n",
        "Ce cas démontre la puissance des variables instrumentales pour résoudre un problème d’endogénéité classique en marketing (prix endogène) .  \n",
        "Toutefois, la validité repose sur des hypothèses fortes :\n",
        "- Instrument pertinent : ici, le coût doit être suffisamment corrélé au prix. Si l’entreprise ne\n",
        "faisait pas varier ses prix en fonction du coût (par ex. prix fixés indépendamment des coûts à\n",
        "court terme), alors le coût ne serait pas un bon instrument (faible corrélation => estimateur IV\n",
        "peu fiable, grand écart-type). On a supposé que ce n’est pas le cas.\n",
        "- Exclusion (exogénéité) : le coût ne doit pas affecter directement la demande. Dans la réalité,\n",
        "cela peut être contesté : si une hausse de coût réduit la qualité du produit (fabrication moins chère) ou implique moins de promotion, la demande peut baisser pour ces raisons-là aussi.  \n",
        "Il faut choisir un instrument où l’on est convaincu que seul le prix est le canal d’influence.  \n",
        "Souvent, on cherche des “expériences naturelles” : par ex. la météo impacte les coûts\n",
        "d’approvisionnement d’un ingrédient, ce qui affecte le prix du produit fini, mais la météo\n",
        "n’affecte pas la demande des consommateurs pour ce produit autrement.  \n",
        "Ce n’est pas trivial à trouver !  \n",
        "Les marketeurs utilisent rarement des VI car c’est difficile d’en trouver de solides dans un contexte business . Mais quand on y parvient, c’est très puissant."
      ],
      "metadata": {
        "id": "E7Q3YeUcB9fP"
      }
    },
    {
      "cell_type": "markdown",
      "source": [
        "Dans notre simulation, l’instrument était parfait car on l’a fabriqué ainsi.\n",
        "\n",
        " Dans la pratique, il faut\n",
        "toujours justifier qualitativement qu’un instrument est valide, et éventuellement tester ses implications\n",
        "(tests de sur-identification si on a plusieurs instruments, etc.). Papies et al. (2023) notent que chaque\n",
        "situation requiert une argumentation au cas par cas, il n’y a pas de solution miracle toute faite"
      ],
      "metadata": {
        "id": "BMqgqUU-C3y_"
      }
    },
    {
      "cell_type": "markdown",
      "source": [
        "**Limites additionnelles :** L’estimation IV donne une pente moyenne sur la plage de variation induite par\n",
        "l’instrument.  \n",
        "Si la relation n’est pas linéaire, ou si l’effet du prix diffère selon les segments de demande,\n",
        "on obtient une sorte d’**effet local moyen (LATE)**.  \n",
        "Par exemple, peut-être que l’entreprise ne varie ses\n",
        "prix que dans certaines conditions (pénuries ou soldes) – l’effet mesuré correspond à ces situations.  \n",
        "On doit rester conscient du contexte.  \n",
        "Malgré tout, l’outil VI est extrêmement utile lorsque les autres méthodes font défaut. Il a été utilisé dans\n",
        "de nombreux travaux marketing (par ex. utiliser le déploiement aléatoire de certaines\n",
        "fonctionnalités comme instrument, etc.).  \n",
        "**On insistera sur le fait qu’il vaut mieux planifier des\n",
        "expérimentations ou quasi-expériences a priori (prix A/B test géographique, etc.) que de se reposer sur la\n",
        "chance d’avoir un bon instrument a posteriori**.  \n",
        "Néanmoins, savoir appliquer cette méthode est un atout\n",
        "pour les analystes marketing quantitatifs."
      ],
      "metadata": {
        "id": "QjG4R-GwDGTw"
      }
    },
    {
      "cell_type": "code",
      "source": [],
      "metadata": {
        "id": "9Vv85S2_83XM"
      },
      "execution_count": null,
      "outputs": []
    }
  ]
}
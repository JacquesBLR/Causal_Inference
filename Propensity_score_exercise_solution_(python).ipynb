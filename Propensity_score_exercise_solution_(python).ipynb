{
  "cells": [
    {
      "cell_type": "markdown",
      "metadata": {
        "id": "view-in-github",
        "colab_type": "text"
      },
      "source": [
        "<a href=\"https://colab.research.google.com/github/JacquesBLR/Causal_Inference/blob/main/Propensity_score_exercise_solution_(python).ipynb\" target=\"_parent\"><img src=\"https://colab.research.google.com/assets/colab-badge.svg\" alt=\"Open In Colab\"/></a>"
      ]
    },
    {
      "cell_type": "markdown",
      "id": "5f83a3ef-10bd-437b-b6a5-0d76064b36b2",
      "metadata": {
        "id": "5f83a3ef-10bd-437b-b6a5-0d76064b36b2"
      },
      "source": [
        "# Propensity Score exercise solution"
      ]
    },
    {
      "cell_type": "code",
      "execution_count": null,
      "id": "5ea8996e",
      "metadata": {
        "id": "5ea8996e"
      },
      "outputs": [],
      "source": [
        "import pandas as pd\n",
        "import yaml\n",
        "import numpy as np\n",
        "\n",
        "import seaborn as sns\n",
        "import matplotlib.pyplot as plt\n",
        "\n",
        "from sklearn.metrics import roc_auc_score\n",
        "from sklearn.model_selection import GridSearchCV\n",
        "from sklearn.ensemble import GradientBoostingClassifier\n",
        "from sklearn.model_selection import train_test_split\n",
        "\n",
        "import random\n",
        "\n",
        "random.seed(1234)"
      ]
    },
    {
      "cell_type": "code",
      "execution_count": null,
      "id": "a936d66a",
      "metadata": {
        "colab": {
          "base_uri": "https://localhost:8080/",
          "height": 178
        },
        "id": "a936d66a",
        "outputId": "4f47690d-bd50-4229-aa85-37b14f07ffee"
      },
      "outputs": [
        {
          "output_type": "execute_result",
          "data": {
            "text/plain": [
              "swang1\n",
              "0    0.629682\n",
              "1    0.680403\n",
              "Name: death, dtype: float64"
            ],
            "text/html": [
              "<div>\n",
              "<style scoped>\n",
              "    .dataframe tbody tr th:only-of-type {\n",
              "        vertical-align: middle;\n",
              "    }\n",
              "\n",
              "    .dataframe tbody tr th {\n",
              "        vertical-align: top;\n",
              "    }\n",
              "\n",
              "    .dataframe thead th {\n",
              "        text-align: right;\n",
              "    }\n",
              "</style>\n",
              "<table border=\"1\" class=\"dataframe\">\n",
              "  <thead>\n",
              "    <tr style=\"text-align: right;\">\n",
              "      <th></th>\n",
              "      <th>death</th>\n",
              "    </tr>\n",
              "    <tr>\n",
              "      <th>swang1</th>\n",
              "      <th></th>\n",
              "    </tr>\n",
              "  </thead>\n",
              "  <tbody>\n",
              "    <tr>\n",
              "      <th>0</th>\n",
              "      <td>0.629682</td>\n",
              "    </tr>\n",
              "    <tr>\n",
              "      <th>1</th>\n",
              "      <td>0.680403</td>\n",
              "    </tr>\n",
              "  </tbody>\n",
              "</table>\n",
              "</div><br><label><b>dtype:</b> float64</label>"
            ]
          },
          "metadata": {},
          "execution_count": 3
        }
      ],
      "source": [
        "rhc = pd.read_csv(\"rhc_dataset.csv\")\n",
        "with open(\"confounders.yml\", \"r\") as f:\n",
        "    confounders = yaml.safe_load(f)\n",
        "\n",
        "rhc[\"swang1\"] = (rhc[\"swang1\"] == \"RHC\").astype(int)\n",
        "rhc[\"death\"] = (rhc[\"death\"] == \"Yes\").astype(int)\n",
        "rhc.groupby(\"swang1\")[\"death\"].mean()\n"
      ]
    },
    {
      "cell_type": "code",
      "source": [
        "rhc\n"
      ],
      "metadata": {
        "colab": {
          "base_uri": "https://localhost:8080/",
          "height": 424
        },
        "id": "SfankB50mOdt",
        "outputId": "ebcd06b1-4388-4815-c0e2-f128d2ed9e9f"
      },
      "id": "SfankB50mOdt",
      "execution_count": null,
      "outputs": [
        {
          "output_type": "execute_result",
          "data": {
            "text/plain": [
              "      Unnamed: 0               cat1           cat2   ca  sadmdte  dschdte  \\\n",
              "0              1               COPD            NaN  Yes    11142  11151.0   \n",
              "1              2      MOSF w/Sepsis            NaN   No    11799  11844.0   \n",
              "2              3  MOSF w/Malignancy  MOSF w/Sepsis  Yes    12083  12143.0   \n",
              "3              4                ARF            NaN   No    11146  11183.0   \n",
              "4              5      MOSF w/Sepsis            NaN   No    12035  12037.0   \n",
              "...          ...                ...            ...  ...      ...      ...   \n",
              "5730        5731      MOSF w/Sepsis            NaN   No    11867  11900.0   \n",
              "5731        5732                ARF            NaN   No    12199  12241.0   \n",
              "5732        5733                ARF            NaN   No    12087  12093.0   \n",
              "5733        5734               COPD            NaN   No    11286  11309.0   \n",
              "5734        5735                ARF  MOSF w/Sepsis   No    10928  10935.0   \n",
              "\n",
              "       dthdte  lstctdte  death  cardiohx  ...  meta  hema  seps  trauma  \\\n",
              "0         NaN     11382      0         0  ...    No    No    No      No   \n",
              "1     11844.0     11844      1         1  ...    No    No   Yes      No   \n",
              "2         NaN     12400      0         0  ...    No    No    No      No   \n",
              "3     11183.0     11182      1         0  ...    No    No    No      No   \n",
              "4     12037.0     12036      1         0  ...    No    No    No      No   \n",
              "...       ...       ...    ...       ...  ...   ...   ...   ...     ...   \n",
              "5730      NaN     12074      0         1  ...    No    No   Yes      No   \n",
              "5731  12629.0     12628      1         0  ...    No    No    No      No   \n",
              "5732  12396.0     12320      1         1  ...    No    No    No      No   \n",
              "5733  11309.0     11308      1         0  ...    No    No    No      No   \n",
              "5734  10935.0     10934      1         0  ...    No    No    No      No   \n",
              "\n",
              "      ortho  adld3p   urin1   race      income   ptid  \n",
              "0        No     0.0     NaN  white  Under $11k      5  \n",
              "1        No     NaN  1437.0  white  Under $11k      7  \n",
              "2        No     NaN   599.0  white    $25-$50k      9  \n",
              "3        No     NaN     NaN  white    $11-$25k     10  \n",
              "4        No     NaN    64.0  white  Under $11k     11  \n",
              "...     ...     ...     ...    ...         ...    ...  \n",
              "5730     No     NaN  1285.0  white  Under $11k  10270  \n",
              "5731     No     0.0  1010.0  white  Under $11k  10272  \n",
              "5732     No     1.0  4638.0  white  Under $11k  10273  \n",
              "5733     No     NaN     NaN  white    $11-$25k  10277  \n",
              "5734     No     NaN     NaN  white    $25-$50k  10278  \n",
              "\n",
              "[5735 rows x 63 columns]"
            ],
            "text/html": [
              "\n",
              "  <div id=\"df-b1fcb4d6-1c58-4c8c-8702-3ccf2792703d\" class=\"colab-df-container\">\n",
              "    <div>\n",
              "<style scoped>\n",
              "    .dataframe tbody tr th:only-of-type {\n",
              "        vertical-align: middle;\n",
              "    }\n",
              "\n",
              "    .dataframe tbody tr th {\n",
              "        vertical-align: top;\n",
              "    }\n",
              "\n",
              "    .dataframe thead th {\n",
              "        text-align: right;\n",
              "    }\n",
              "</style>\n",
              "<table border=\"1\" class=\"dataframe\">\n",
              "  <thead>\n",
              "    <tr style=\"text-align: right;\">\n",
              "      <th></th>\n",
              "      <th>Unnamed: 0</th>\n",
              "      <th>cat1</th>\n",
              "      <th>cat2</th>\n",
              "      <th>ca</th>\n",
              "      <th>sadmdte</th>\n",
              "      <th>dschdte</th>\n",
              "      <th>dthdte</th>\n",
              "      <th>lstctdte</th>\n",
              "      <th>death</th>\n",
              "      <th>cardiohx</th>\n",
              "      <th>...</th>\n",
              "      <th>meta</th>\n",
              "      <th>hema</th>\n",
              "      <th>seps</th>\n",
              "      <th>trauma</th>\n",
              "      <th>ortho</th>\n",
              "      <th>adld3p</th>\n",
              "      <th>urin1</th>\n",
              "      <th>race</th>\n",
              "      <th>income</th>\n",
              "      <th>ptid</th>\n",
              "    </tr>\n",
              "  </thead>\n",
              "  <tbody>\n",
              "    <tr>\n",
              "      <th>0</th>\n",
              "      <td>1</td>\n",
              "      <td>COPD</td>\n",
              "      <td>NaN</td>\n",
              "      <td>Yes</td>\n",
              "      <td>11142</td>\n",
              "      <td>11151.0</td>\n",
              "      <td>NaN</td>\n",
              "      <td>11382</td>\n",
              "      <td>0</td>\n",
              "      <td>0</td>\n",
              "      <td>...</td>\n",
              "      <td>No</td>\n",
              "      <td>No</td>\n",
              "      <td>No</td>\n",
              "      <td>No</td>\n",
              "      <td>No</td>\n",
              "      <td>0.0</td>\n",
              "      <td>NaN</td>\n",
              "      <td>white</td>\n",
              "      <td>Under $11k</td>\n",
              "      <td>5</td>\n",
              "    </tr>\n",
              "    <tr>\n",
              "      <th>1</th>\n",
              "      <td>2</td>\n",
              "      <td>MOSF w/Sepsis</td>\n",
              "      <td>NaN</td>\n",
              "      <td>No</td>\n",
              "      <td>11799</td>\n",
              "      <td>11844.0</td>\n",
              "      <td>11844.0</td>\n",
              "      <td>11844</td>\n",
              "      <td>1</td>\n",
              "      <td>1</td>\n",
              "      <td>...</td>\n",
              "      <td>No</td>\n",
              "      <td>No</td>\n",
              "      <td>Yes</td>\n",
              "      <td>No</td>\n",
              "      <td>No</td>\n",
              "      <td>NaN</td>\n",
              "      <td>1437.0</td>\n",
              "      <td>white</td>\n",
              "      <td>Under $11k</td>\n",
              "      <td>7</td>\n",
              "    </tr>\n",
              "    <tr>\n",
              "      <th>2</th>\n",
              "      <td>3</td>\n",
              "      <td>MOSF w/Malignancy</td>\n",
              "      <td>MOSF w/Sepsis</td>\n",
              "      <td>Yes</td>\n",
              "      <td>12083</td>\n",
              "      <td>12143.0</td>\n",
              "      <td>NaN</td>\n",
              "      <td>12400</td>\n",
              "      <td>0</td>\n",
              "      <td>0</td>\n",
              "      <td>...</td>\n",
              "      <td>No</td>\n",
              "      <td>No</td>\n",
              "      <td>No</td>\n",
              "      <td>No</td>\n",
              "      <td>No</td>\n",
              "      <td>NaN</td>\n",
              "      <td>599.0</td>\n",
              "      <td>white</td>\n",
              "      <td>$25-$50k</td>\n",
              "      <td>9</td>\n",
              "    </tr>\n",
              "    <tr>\n",
              "      <th>3</th>\n",
              "      <td>4</td>\n",
              "      <td>ARF</td>\n",
              "      <td>NaN</td>\n",
              "      <td>No</td>\n",
              "      <td>11146</td>\n",
              "      <td>11183.0</td>\n",
              "      <td>11183.0</td>\n",
              "      <td>11182</td>\n",
              "      <td>1</td>\n",
              "      <td>0</td>\n",
              "      <td>...</td>\n",
              "      <td>No</td>\n",
              "      <td>No</td>\n",
              "      <td>No</td>\n",
              "      <td>No</td>\n",
              "      <td>No</td>\n",
              "      <td>NaN</td>\n",
              "      <td>NaN</td>\n",
              "      <td>white</td>\n",
              "      <td>$11-$25k</td>\n",
              "      <td>10</td>\n",
              "    </tr>\n",
              "    <tr>\n",
              "      <th>4</th>\n",
              "      <td>5</td>\n",
              "      <td>MOSF w/Sepsis</td>\n",
              "      <td>NaN</td>\n",
              "      <td>No</td>\n",
              "      <td>12035</td>\n",
              "      <td>12037.0</td>\n",
              "      <td>12037.0</td>\n",
              "      <td>12036</td>\n",
              "      <td>1</td>\n",
              "      <td>0</td>\n",
              "      <td>...</td>\n",
              "      <td>No</td>\n",
              "      <td>No</td>\n",
              "      <td>No</td>\n",
              "      <td>No</td>\n",
              "      <td>No</td>\n",
              "      <td>NaN</td>\n",
              "      <td>64.0</td>\n",
              "      <td>white</td>\n",
              "      <td>Under $11k</td>\n",
              "      <td>11</td>\n",
              "    </tr>\n",
              "    <tr>\n",
              "      <th>...</th>\n",
              "      <td>...</td>\n",
              "      <td>...</td>\n",
              "      <td>...</td>\n",
              "      <td>...</td>\n",
              "      <td>...</td>\n",
              "      <td>...</td>\n",
              "      <td>...</td>\n",
              "      <td>...</td>\n",
              "      <td>...</td>\n",
              "      <td>...</td>\n",
              "      <td>...</td>\n",
              "      <td>...</td>\n",
              "      <td>...</td>\n",
              "      <td>...</td>\n",
              "      <td>...</td>\n",
              "      <td>...</td>\n",
              "      <td>...</td>\n",
              "      <td>...</td>\n",
              "      <td>...</td>\n",
              "      <td>...</td>\n",
              "      <td>...</td>\n",
              "    </tr>\n",
              "    <tr>\n",
              "      <th>5730</th>\n",
              "      <td>5731</td>\n",
              "      <td>MOSF w/Sepsis</td>\n",
              "      <td>NaN</td>\n",
              "      <td>No</td>\n",
              "      <td>11867</td>\n",
              "      <td>11900.0</td>\n",
              "      <td>NaN</td>\n",
              "      <td>12074</td>\n",
              "      <td>0</td>\n",
              "      <td>1</td>\n",
              "      <td>...</td>\n",
              "      <td>No</td>\n",
              "      <td>No</td>\n",
              "      <td>Yes</td>\n",
              "      <td>No</td>\n",
              "      <td>No</td>\n",
              "      <td>NaN</td>\n",
              "      <td>1285.0</td>\n",
              "      <td>white</td>\n",
              "      <td>Under $11k</td>\n",
              "      <td>10270</td>\n",
              "    </tr>\n",
              "    <tr>\n",
              "      <th>5731</th>\n",
              "      <td>5732</td>\n",
              "      <td>ARF</td>\n",
              "      <td>NaN</td>\n",
              "      <td>No</td>\n",
              "      <td>12199</td>\n",
              "      <td>12241.0</td>\n",
              "      <td>12629.0</td>\n",
              "      <td>12628</td>\n",
              "      <td>1</td>\n",
              "      <td>0</td>\n",
              "      <td>...</td>\n",
              "      <td>No</td>\n",
              "      <td>No</td>\n",
              "      <td>No</td>\n",
              "      <td>No</td>\n",
              "      <td>No</td>\n",
              "      <td>0.0</td>\n",
              "      <td>1010.0</td>\n",
              "      <td>white</td>\n",
              "      <td>Under $11k</td>\n",
              "      <td>10272</td>\n",
              "    </tr>\n",
              "    <tr>\n",
              "      <th>5732</th>\n",
              "      <td>5733</td>\n",
              "      <td>ARF</td>\n",
              "      <td>NaN</td>\n",
              "      <td>No</td>\n",
              "      <td>12087</td>\n",
              "      <td>12093.0</td>\n",
              "      <td>12396.0</td>\n",
              "      <td>12320</td>\n",
              "      <td>1</td>\n",
              "      <td>1</td>\n",
              "      <td>...</td>\n",
              "      <td>No</td>\n",
              "      <td>No</td>\n",
              "      <td>No</td>\n",
              "      <td>No</td>\n",
              "      <td>No</td>\n",
              "      <td>1.0</td>\n",
              "      <td>4638.0</td>\n",
              "      <td>white</td>\n",
              "      <td>Under $11k</td>\n",
              "      <td>10273</td>\n",
              "    </tr>\n",
              "    <tr>\n",
              "      <th>5733</th>\n",
              "      <td>5734</td>\n",
              "      <td>COPD</td>\n",
              "      <td>NaN</td>\n",
              "      <td>No</td>\n",
              "      <td>11286</td>\n",
              "      <td>11309.0</td>\n",
              "      <td>11309.0</td>\n",
              "      <td>11308</td>\n",
              "      <td>1</td>\n",
              "      <td>0</td>\n",
              "      <td>...</td>\n",
              "      <td>No</td>\n",
              "      <td>No</td>\n",
              "      <td>No</td>\n",
              "      <td>No</td>\n",
              "      <td>No</td>\n",
              "      <td>NaN</td>\n",
              "      <td>NaN</td>\n",
              "      <td>white</td>\n",
              "      <td>$11-$25k</td>\n",
              "      <td>10277</td>\n",
              "    </tr>\n",
              "    <tr>\n",
              "      <th>5734</th>\n",
              "      <td>5735</td>\n",
              "      <td>ARF</td>\n",
              "      <td>MOSF w/Sepsis</td>\n",
              "      <td>No</td>\n",
              "      <td>10928</td>\n",
              "      <td>10935.0</td>\n",
              "      <td>10935.0</td>\n",
              "      <td>10934</td>\n",
              "      <td>1</td>\n",
              "      <td>0</td>\n",
              "      <td>...</td>\n",
              "      <td>No</td>\n",
              "      <td>No</td>\n",
              "      <td>No</td>\n",
              "      <td>No</td>\n",
              "      <td>No</td>\n",
              "      <td>NaN</td>\n",
              "      <td>NaN</td>\n",
              "      <td>white</td>\n",
              "      <td>$25-$50k</td>\n",
              "      <td>10278</td>\n",
              "    </tr>\n",
              "  </tbody>\n",
              "</table>\n",
              "<p>5735 rows × 63 columns</p>\n",
              "</div>\n",
              "    <div class=\"colab-df-buttons\">\n",
              "\n",
              "  <div class=\"colab-df-container\">\n",
              "    <button class=\"colab-df-convert\" onclick=\"convertToInteractive('df-b1fcb4d6-1c58-4c8c-8702-3ccf2792703d')\"\n",
              "            title=\"Convert this dataframe to an interactive table.\"\n",
              "            style=\"display:none;\">\n",
              "\n",
              "  <svg xmlns=\"http://www.w3.org/2000/svg\" height=\"24px\" viewBox=\"0 -960 960 960\">\n",
              "    <path d=\"M120-120v-720h720v720H120Zm60-500h600v-160H180v160Zm220 220h160v-160H400v160Zm0 220h160v-160H400v160ZM180-400h160v-160H180v160Zm440 0h160v-160H620v160ZM180-180h160v-160H180v160Zm440 0h160v-160H620v160Z\"/>\n",
              "  </svg>\n",
              "    </button>\n",
              "\n",
              "  <style>\n",
              "    .colab-df-container {\n",
              "      display:flex;\n",
              "      gap: 12px;\n",
              "    }\n",
              "\n",
              "    .colab-df-convert {\n",
              "      background-color: #E8F0FE;\n",
              "      border: none;\n",
              "      border-radius: 50%;\n",
              "      cursor: pointer;\n",
              "      display: none;\n",
              "      fill: #1967D2;\n",
              "      height: 32px;\n",
              "      padding: 0 0 0 0;\n",
              "      width: 32px;\n",
              "    }\n",
              "\n",
              "    .colab-df-convert:hover {\n",
              "      background-color: #E2EBFA;\n",
              "      box-shadow: 0px 1px 2px rgba(60, 64, 67, 0.3), 0px 1px 3px 1px rgba(60, 64, 67, 0.15);\n",
              "      fill: #174EA6;\n",
              "    }\n",
              "\n",
              "    .colab-df-buttons div {\n",
              "      margin-bottom: 4px;\n",
              "    }\n",
              "\n",
              "    [theme=dark] .colab-df-convert {\n",
              "      background-color: #3B4455;\n",
              "      fill: #D2E3FC;\n",
              "    }\n",
              "\n",
              "    [theme=dark] .colab-df-convert:hover {\n",
              "      background-color: #434B5C;\n",
              "      box-shadow: 0px 1px 3px 1px rgba(0, 0, 0, 0.15);\n",
              "      filter: drop-shadow(0px 1px 2px rgba(0, 0, 0, 0.3));\n",
              "      fill: #FFFFFF;\n",
              "    }\n",
              "  </style>\n",
              "\n",
              "    <script>\n",
              "      const buttonEl =\n",
              "        document.querySelector('#df-b1fcb4d6-1c58-4c8c-8702-3ccf2792703d button.colab-df-convert');\n",
              "      buttonEl.style.display =\n",
              "        google.colab.kernel.accessAllowed ? 'block' : 'none';\n",
              "\n",
              "      async function convertToInteractive(key) {\n",
              "        const element = document.querySelector('#df-b1fcb4d6-1c58-4c8c-8702-3ccf2792703d');\n",
              "        const dataTable =\n",
              "          await google.colab.kernel.invokeFunction('convertToInteractive',\n",
              "                                                    [key], {});\n",
              "        if (!dataTable) return;\n",
              "\n",
              "        const docLinkHtml = 'Like what you see? Visit the ' +\n",
              "          '<a target=\"_blank\" href=https://colab.research.google.com/notebooks/data_table.ipynb>data table notebook</a>'\n",
              "          + ' to learn more about interactive tables.';\n",
              "        element.innerHTML = '';\n",
              "        dataTable['output_type'] = 'display_data';\n",
              "        await google.colab.output.renderOutput(dataTable, element);\n",
              "        const docLink = document.createElement('div');\n",
              "        docLink.innerHTML = docLinkHtml;\n",
              "        element.appendChild(docLink);\n",
              "      }\n",
              "    </script>\n",
              "  </div>\n",
              "\n",
              "\n",
              "    <div id=\"df-633bd03b-e140-43fc-baa2-1ec8c4e5c404\">\n",
              "      <button class=\"colab-df-quickchart\" onclick=\"quickchart('df-633bd03b-e140-43fc-baa2-1ec8c4e5c404')\"\n",
              "                title=\"Suggest charts\"\n",
              "                style=\"display:none;\">\n",
              "\n",
              "<svg xmlns=\"http://www.w3.org/2000/svg\" height=\"24px\"viewBox=\"0 0 24 24\"\n",
              "     width=\"24px\">\n",
              "    <g>\n",
              "        <path d=\"M19 3H5c-1.1 0-2 .9-2 2v14c0 1.1.9 2 2 2h14c1.1 0 2-.9 2-2V5c0-1.1-.9-2-2-2zM9 17H7v-7h2v7zm4 0h-2V7h2v10zm4 0h-2v-4h2v4z\"/>\n",
              "    </g>\n",
              "</svg>\n",
              "      </button>\n",
              "\n",
              "<style>\n",
              "  .colab-df-quickchart {\n",
              "      --bg-color: #E8F0FE;\n",
              "      --fill-color: #1967D2;\n",
              "      --hover-bg-color: #E2EBFA;\n",
              "      --hover-fill-color: #174EA6;\n",
              "      --disabled-fill-color: #AAA;\n",
              "      --disabled-bg-color: #DDD;\n",
              "  }\n",
              "\n",
              "  [theme=dark] .colab-df-quickchart {\n",
              "      --bg-color: #3B4455;\n",
              "      --fill-color: #D2E3FC;\n",
              "      --hover-bg-color: #434B5C;\n",
              "      --hover-fill-color: #FFFFFF;\n",
              "      --disabled-bg-color: #3B4455;\n",
              "      --disabled-fill-color: #666;\n",
              "  }\n",
              "\n",
              "  .colab-df-quickchart {\n",
              "    background-color: var(--bg-color);\n",
              "    border: none;\n",
              "    border-radius: 50%;\n",
              "    cursor: pointer;\n",
              "    display: none;\n",
              "    fill: var(--fill-color);\n",
              "    height: 32px;\n",
              "    padding: 0;\n",
              "    width: 32px;\n",
              "  }\n",
              "\n",
              "  .colab-df-quickchart:hover {\n",
              "    background-color: var(--hover-bg-color);\n",
              "    box-shadow: 0 1px 2px rgba(60, 64, 67, 0.3), 0 1px 3px 1px rgba(60, 64, 67, 0.15);\n",
              "    fill: var(--button-hover-fill-color);\n",
              "  }\n",
              "\n",
              "  .colab-df-quickchart-complete:disabled,\n",
              "  .colab-df-quickchart-complete:disabled:hover {\n",
              "    background-color: var(--disabled-bg-color);\n",
              "    fill: var(--disabled-fill-color);\n",
              "    box-shadow: none;\n",
              "  }\n",
              "\n",
              "  .colab-df-spinner {\n",
              "    border: 2px solid var(--fill-color);\n",
              "    border-color: transparent;\n",
              "    border-bottom-color: var(--fill-color);\n",
              "    animation:\n",
              "      spin 1s steps(1) infinite;\n",
              "  }\n",
              "\n",
              "  @keyframes spin {\n",
              "    0% {\n",
              "      border-color: transparent;\n",
              "      border-bottom-color: var(--fill-color);\n",
              "      border-left-color: var(--fill-color);\n",
              "    }\n",
              "    20% {\n",
              "      border-color: transparent;\n",
              "      border-left-color: var(--fill-color);\n",
              "      border-top-color: var(--fill-color);\n",
              "    }\n",
              "    30% {\n",
              "      border-color: transparent;\n",
              "      border-left-color: var(--fill-color);\n",
              "      border-top-color: var(--fill-color);\n",
              "      border-right-color: var(--fill-color);\n",
              "    }\n",
              "    40% {\n",
              "      border-color: transparent;\n",
              "      border-right-color: var(--fill-color);\n",
              "      border-top-color: var(--fill-color);\n",
              "    }\n",
              "    60% {\n",
              "      border-color: transparent;\n",
              "      border-right-color: var(--fill-color);\n",
              "    }\n",
              "    80% {\n",
              "      border-color: transparent;\n",
              "      border-right-color: var(--fill-color);\n",
              "      border-bottom-color: var(--fill-color);\n",
              "    }\n",
              "    90% {\n",
              "      border-color: transparent;\n",
              "      border-bottom-color: var(--fill-color);\n",
              "    }\n",
              "  }\n",
              "</style>\n",
              "\n",
              "      <script>\n",
              "        async function quickchart(key) {\n",
              "          const quickchartButtonEl =\n",
              "            document.querySelector('#' + key + ' button');\n",
              "          quickchartButtonEl.disabled = true;  // To prevent multiple clicks.\n",
              "          quickchartButtonEl.classList.add('colab-df-spinner');\n",
              "          try {\n",
              "            const charts = await google.colab.kernel.invokeFunction(\n",
              "                'suggestCharts', [key], {});\n",
              "          } catch (error) {\n",
              "            console.error('Error during call to suggestCharts:', error);\n",
              "          }\n",
              "          quickchartButtonEl.classList.remove('colab-df-spinner');\n",
              "          quickchartButtonEl.classList.add('colab-df-quickchart-complete');\n",
              "        }\n",
              "        (() => {\n",
              "          let quickchartButtonEl =\n",
              "            document.querySelector('#df-633bd03b-e140-43fc-baa2-1ec8c4e5c404 button');\n",
              "          quickchartButtonEl.style.display =\n",
              "            google.colab.kernel.accessAllowed ? 'block' : 'none';\n",
              "        })();\n",
              "      </script>\n",
              "    </div>\n",
              "\n",
              "  <div id=\"id_10c52907-2aec-4fca-9986-7421a6606faf\">\n",
              "    <style>\n",
              "      .colab-df-generate {\n",
              "        background-color: #E8F0FE;\n",
              "        border: none;\n",
              "        border-radius: 50%;\n",
              "        cursor: pointer;\n",
              "        display: none;\n",
              "        fill: #1967D2;\n",
              "        height: 32px;\n",
              "        padding: 0 0 0 0;\n",
              "        width: 32px;\n",
              "      }\n",
              "\n",
              "      .colab-df-generate:hover {\n",
              "        background-color: #E2EBFA;\n",
              "        box-shadow: 0px 1px 2px rgba(60, 64, 67, 0.3), 0px 1px 3px 1px rgba(60, 64, 67, 0.15);\n",
              "        fill: #174EA6;\n",
              "      }\n",
              "\n",
              "      [theme=dark] .colab-df-generate {\n",
              "        background-color: #3B4455;\n",
              "        fill: #D2E3FC;\n",
              "      }\n",
              "\n",
              "      [theme=dark] .colab-df-generate:hover {\n",
              "        background-color: #434B5C;\n",
              "        box-shadow: 0px 1px 3px 1px rgba(0, 0, 0, 0.15);\n",
              "        filter: drop-shadow(0px 1px 2px rgba(0, 0, 0, 0.3));\n",
              "        fill: #FFFFFF;\n",
              "      }\n",
              "    </style>\n",
              "    <button class=\"colab-df-generate\" onclick=\"generateWithVariable('rhc')\"\n",
              "            title=\"Generate code using this dataframe.\"\n",
              "            style=\"display:none;\">\n",
              "\n",
              "  <svg xmlns=\"http://www.w3.org/2000/svg\" height=\"24px\"viewBox=\"0 0 24 24\"\n",
              "       width=\"24px\">\n",
              "    <path d=\"M7,19H8.4L18.45,9,17,7.55,7,17.6ZM5,21V16.75L18.45,3.32a2,2,0,0,1,2.83,0l1.4,1.43a1.91,1.91,0,0,1,.58,1.4,1.91,1.91,0,0,1-.58,1.4L9.25,21ZM18.45,9,17,7.55Zm-12,3A5.31,5.31,0,0,0,4.9,8.1,5.31,5.31,0,0,0,1,6.5,5.31,5.31,0,0,0,4.9,4.9,5.31,5.31,0,0,0,6.5,1,5.31,5.31,0,0,0,8.1,4.9,5.31,5.31,0,0,0,12,6.5,5.46,5.46,0,0,0,6.5,12Z\"/>\n",
              "  </svg>\n",
              "    </button>\n",
              "    <script>\n",
              "      (() => {\n",
              "      const buttonEl =\n",
              "        document.querySelector('#id_10c52907-2aec-4fca-9986-7421a6606faf button.colab-df-generate');\n",
              "      buttonEl.style.display =\n",
              "        google.colab.kernel.accessAllowed ? 'block' : 'none';\n",
              "\n",
              "      buttonEl.onclick = () => {\n",
              "        google.colab.notebook.generateWithVariable('rhc');\n",
              "      }\n",
              "      })();\n",
              "    </script>\n",
              "  </div>\n",
              "\n",
              "    </div>\n",
              "  </div>\n"
            ],
            "application/vnd.google.colaboratory.intrinsic+json": {
              "type": "dataframe",
              "variable_name": "rhc"
            }
          },
          "metadata": {},
          "execution_count": 4
        }
      ]
    },
    {
      "cell_type": "markdown",
      "id": "b10ac6cd-2985-4d78-9ffd-f9f39bfbf063",
      "metadata": {
        "id": "b10ac6cd-2985-4d78-9ffd-f9f39bfbf063"
      },
      "source": [
        "# 1. Auxiliary functions"
      ]
    },
    {
      "cell_type": "code",
      "execution_count": null,
      "id": "48161b6d",
      "metadata": {
        "id": "48161b6d"
      },
      "outputs": [],
      "source": [
        "def plot_results(ps_values, swang1, name=\"\"):\n",
        "    auc = round(roc_auc_score(swang1, ps_values), 4)\n",
        "    sns.kdeplot(\n",
        "        x=ps_values, hue=swang1, fill=True, common_norm=False, alpha=0.4\n",
        "    ).set_title(f\"AUC {name}:{auc}\")\n",
        "    plt.show()\n"
      ]
    },
    {
      "cell_type": "code",
      "execution_count": null,
      "id": "02bfcbd3",
      "metadata": {
        "id": "02bfcbd3"
      },
      "outputs": [],
      "source": [
        "def train_model(X, y):\n",
        "    parameters = {\n",
        "        \"learning_rate\": [0.005, 0.01, 0.15, 0.2],\n",
        "        \"max_depth\": [1, 2, 3, 4, 5],\n",
        "        \"n_estimators\": [100, 150, 200, 300],\n",
        "    }\n",
        "\n",
        "    grid_cv = GridSearchCV(\n",
        "        GradientBoostingClassifier(), parameters, scoring=\"roc_auc\", cv=5, n_jobs=-1\n",
        "    )\n",
        "    grid_cv.fit(X, y)\n",
        "    return grid_cv\n"
      ]
    },
    {
      "cell_type": "markdown",
      "id": "3fb3fe5e-537a-41a4-83b3-9870a9daca4b",
      "metadata": {
        "id": "3fb3fe5e-537a-41a4-83b3-9870a9daca4b"
      },
      "source": [
        "# 2. 1. \\[Propensity scores first attempt\\]\n",
        "\n",
        "Train a model for the Propensity Score (PS) with the treatment variable\n",
        "*swang1*."
      ]
    },
    {
      "cell_type": "code",
      "execution_count": null,
      "id": "4e41e2c1",
      "metadata": {
        "id": "4e41e2c1"
      },
      "outputs": [],
      "source": [
        "# Transoforming categorical variables shouls be done inside the cross validation, and not before, because otherwise there can be some data leakage. In this exercise we did it directly for simplicity.\n",
        "\n",
        "X = rhc[confounders]\n",
        "X = pd.get_dummies(X)\n",
        "y = rhc[\"swang1\"]\n",
        "ps_model = train_model(X, y)"
      ]
    },
    {
      "cell_type": "markdown",
      "id": "9a36d40f-c033-4709-b7ab-b968f7f63b23",
      "metadata": {
        "id": "9a36d40f-c033-4709-b7ab-b968f7f63b23"
      },
      "source": [
        "These are the best hyperparameters with and its corresponding\n",
        "cross-validated AUC"
      ]
    },
    {
      "cell_type": "code",
      "execution_count": null,
      "id": "e8a54171",
      "metadata": {
        "colab": {
          "base_uri": "https://localhost:8080/"
        },
        "id": "e8a54171",
        "outputId": "b726cf49-b256-4252-9683-4d6e1b281260"
      },
      "outputs": [
        {
          "output_type": "stream",
          "name": "stdout",
          "text": [
            "Best Params\n",
            "{'learning_rate': 0.15, 'max_depth': 2, 'n_estimators': 300}\n",
            "Best AUC\n",
            "0.8059676296160967\n"
          ]
        }
      ],
      "source": [
        "print(\"Best Params\")\n",
        "print(ps_model.best_params_)\n",
        "\n",
        "print(\"Best AUC\")\n",
        "print(ps_model.best_score_)"
      ]
    },
    {
      "cell_type": "markdown",
      "id": "820f8a4d-cdfa-44f8-875d-148468d49b20",
      "metadata": {
        "id": "820f8a4d-cdfa-44f8-875d-148468d49b20"
      },
      "source": [
        "*QUESTION*: As you can see, the AUC obtained with boosting is similar to\n",
        "the one obtained with logistic regression. So, why using boosting\n",
        "instead of logistic regression?\n",
        "\n",
        "We know they have similar AUC a posteriory. In general boosting can fit\n",
        "better to the data (because it provides nonlinear functions). So, if we\n",
        "only use logistic regression, we will not know whether we could have\n",
        "done better fitting using a more complex model.\n",
        "\n",
        "# 3. 2. \\[Overfitting\\]\n",
        "\n",
        "Use the trained model to make predictions (probabilities) on the same\n",
        "dataset and calculate its AUC. Verify that the AUC with respect to the\n",
        "predicted probabilities is higher than the AUC reported from the cross\n",
        "validation."
      ]
    },
    {
      "cell_type": "code",
      "execution_count": null,
      "id": "b436e8ba",
      "metadata": {
        "colab": {
          "base_uri": "https://localhost:8080/",
          "height": 452
        },
        "id": "b436e8ba",
        "outputId": "d60be3c9-c651-4306-cc1c-566b55a1520c"
      },
      "outputs": [
        {
          "output_type": "display_data",
          "data": {
            "text/plain": [
              "<Figure size 640x480 with 1 Axes>"
            ],
            "image/png": "[encoded data removed]"
          },
          "metadata": {}
        }
      ],
      "source": [
        "ps_values = ps_model.predict_proba(X)[:, 1]\n",
        "\n",
        "plot_results(ps_values, y, name=\"Boosting\")"
      ]
    },
    {
      "cell_type": "markdown",
      "id": "ee761de5-c256-4582-9eac-895fe68ddf21",
      "metadata": {
        "id": "ee761de5-c256-4582-9eac-895fe68ddf21"
      },
      "source": [
        "Notice that the AUC calculated with the predictions is quite higher than the reported by the cross validation. The latter is a more reliable metric than the former, so we are overfitting our dataset!\n",
        "\n",
        "*NOTE*: You can try the same process with logistic regression. In that case you will see that, logistic regression overfits less or none at all. So, depending on the model you use, even you use cross validation, you will overfit more or less.\n",
        "\n",
        "# 4. 3. \\[Propensity scores with cross-fitting\\]\n",
        "\n",
        "Calculate the PS using 2-fold cross-fitting: split the data set into 2\n",
        "equally sized data sets $D_1$ and $D_2$. Train a model for PS using\n",
        "$D_1$ and predict on $D_2$, and vice versa. Calculate the AUC with the\n",
        "new propensity score."
      ]
    },
    {
      "cell_type": "code",
      "execution_count": null,
      "id": "58dc6e7f",
      "metadata": {
        "colab": {
          "base_uri": "https://localhost:8080/"
        },
        "id": "58dc6e7f",
        "outputId": "bc5e3cdd-ebad-4cde-eaae-639050787562"
      },
      "outputs": [
        {
          "output_type": "stream",
          "name": "stdout",
          "text": [
            "0.800426645540698\n"
          ]
        }
      ],
      "source": [
        "# we create two datasets D1 and D2 randomly. We stratify by the outcome swang1 to guarantee a balanced dataset with respect the outcome\n",
        "D1_X, D2_X, D1_y, D2_y = train_test_split(X, y, test_size=0.5, stratify=y)\n",
        "\n",
        "ps_model_boost_1 = train_model(D1_X, D1_y)\n",
        "ps_model_boost_2 = train_model(D2_X, D2_y)\n",
        "\n",
        "# We predict on the dataset D1 using the model trained on D2 and vice versa\n",
        "ps_1 = ps_model_boost_2.predict_proba(D1_X)[:, 1]\n",
        "ps_2 = ps_model_boost_1.predict_proba(D2_X)[:, 1]\n",
        "\n",
        "swang1 = pd.concat([D1_y, D2_y])\n",
        "ps_values = np.concatenate([ps_1, ps_2])\n",
        "print(roc_auc_score(swang1, ps_values))"
      ]
    },
    {
      "cell_type": "markdown",
      "id": "386d0333-de0f-415c-9767-45d36e7024c9",
      "metadata": {
        "id": "386d0333-de0f-415c-9767-45d36e7024c9"
      },
      "source": [
        "The obtained AUC with the propensity scores calculated in this way is closer to the one\n",
        "obtained from the cross validation\n",
        "\n",
        "# 5. 4. \\[Visual Inspection\\]\n",
        "\n",
        "Make the plot of the density of the PS by treatment group. Are the two\n",
        "groups comparable?"
      ]
    },
    {
      "cell_type": "code",
      "execution_count": null,
      "id": "433361d7",
      "metadata": {
        "colab": {
          "base_uri": "https://localhost:8080/",
          "height": 452
        },
        "id": "433361d7",
        "outputId": "7f569d6e-f25d-4fa5-eebe-a1c13b93d7c2"
      },
      "outputs": [
        {
          "output_type": "display_data",
          "data": {
            "text/plain": [
              "<Figure size 640x480 with 1 Axes>"
            ],
            "image/png": "[encoded data removed]"
          },
          "metadata": {}
        }
      ],
      "source": [
        "plot_results(ps_values, swang1, name=\"Cross fitted Boosting\")"
      ]
    },
    {
      "cell_type": "markdown",
      "id": "89bc3aa0-12f0-48bd-a8b6-8531f8dd24ba",
      "metadata": {
        "id": "89bc3aa0-12f0-48bd-a8b6-8531f8dd24ba"
      },
      "source": [
        "Since the support of both groups is the same, they are fully comparable.\n",
        "\n",
        "# 6. 5. \\[ATEs with T-learners and cross-fitting\\]\n",
        "\n",
        "Calculate ATEs using T-learner & cross-fitting in order to estimate the\n",
        "effect of swang1 to death:\n",
        "\n",
        "## 6.1 Split the data set into 2 equally sized data sets D1 and D2"
      ]
    },
    {
      "cell_type": "code",
      "execution_count": null,
      "id": "a49d7052",
      "metadata": {
        "id": "a49d7052"
      },
      "outputs": [],
      "source": [
        "X = rhc[[\"swang1\"] + confounders]\n",
        "X = pd.get_dummies(X)\n",
        "y = rhc[\"death\"]\n",
        "\n",
        "D1_X, D2_X, D1_y, D2_y = train_test_split(X, y, test_size=0.5, stratify=y)"
      ]
    },
    {
      "cell_type": "markdown",
      "id": "df41b7fd-879d-4742-ab4f-99dfee462137",
      "metadata": {
        "id": "df41b7fd-879d-4742-ab4f-99dfee462137"
      },
      "source": [
        "## 6.2 Take $D_1$ and and train two models:\n",
        "\n",
        "-   With swang1 = RHC, called $f_{1,R}$\n",
        "-   With swang1 = Non-RHC, called $f_{1,N}$"
      ]
    },
    {
      "cell_type": "code",
      "execution_count": null,
      "id": "a69b9a18",
      "metadata": {
        "id": "a69b9a18"
      },
      "outputs": [],
      "source": [
        "data_1_rhc_X = D1_X[D1_X.swang1 == 1]\n",
        "data_1_rhc_y = D1_y[D1_X.swang1 == 1]\n",
        "ps_model_boost_1_rhc = train_model(data_1_rhc_X, data_1_rhc_y)\n",
        "\n",
        "data_1_nrhc_X = D1_X[D1_X.swang1 == 0]\n",
        "data_1_nrhc_y = D1_y[D1_X.swang1 == 0]\n",
        "ps_model_boost_1_nrhc = train_model(data_1_nrhc_X, data_1_nrhc_y)"
      ]
    },
    {
      "cell_type": "markdown",
      "id": "9d2c2c7a-993b-414e-8793-3fc9c5b1d136",
      "metadata": {
        "id": "9d2c2c7a-993b-414e-8793-3fc9c5b1d136"
      },
      "source": [
        "## 6.3 Repeat the process with $D_2$ and train two models"
      ]
    },
    {
      "cell_type": "code",
      "execution_count": null,
      "id": "55007436",
      "metadata": {
        "id": "55007436"
      },
      "outputs": [],
      "source": [
        "data_2_rhc_X = D2_X[D2_X.swang1 == 1]\n",
        "data_2_rhc_y = D2_y[D2_X.swang1 == 1]\n",
        "ps_model_boost_2_rhc = train_model(data_2_rhc_X, data_2_rhc_y)\n",
        "\n",
        "data_2_nrhc_X = D2_X[D2_X.swang1 == 0]\n",
        "data_2_nrhc_y = D2_y[D2_X.swang1 == 0]\n",
        "ps_model_boost_2_nrhc = train_model(data_2_nrhc_X, data_2_nrhc_y)"
      ]
    },
    {
      "cell_type": "markdown",
      "id": "33aa5583-7020-4e81-b314-1f197f3f4ecc",
      "metadata": {
        "id": "33aa5583-7020-4e81-b314-1f197f3f4ecc"
      },
      "source": [
        "## 6.4 Calculate on $D_2$ the vector of predictions $f_{1,R}(x) - f_{1,N}(x)$ where $x$ ranges for all observations in D2.\n",
        "\n",
        "Later, switch roles between D1 and D2 and calculate the ATE."
      ]
    },
    {
      "cell_type": "code",
      "execution_count": null,
      "id": "8db11339",
      "metadata": {
        "id": "8db11339"
      },
      "outputs": [],
      "source": [
        "ATE_1 = ps_model_boost_2_rhc.predict_proba(D1_X)[:, 1]\n",
        "ATE_1 = ATE_1 - ps_model_boost_2_nrhc.predict_proba(D1_X)[:, 1]\n",
        "\n",
        "ATE_2 = ps_model_boost_1_rhc.predict_proba(D2_X)[:, 1]\n",
        "ATE_2 = ATE_2 - ps_model_boost_1_nrhc.predict_proba(D2_X)[:, 1]\n",
        "\n",
        "ATE_values = np.concatenate([ATE_1, ATE_2])"
      ]
    },
    {
      "cell_type": "code",
      "source": [
        "ATE_1 = ps_model_boost_2_rhc.predict_proba(D1_X)[:, 1]\n",
        "ATE_1 = ATE_1 - ps_model_boost_2_nrhc.predict_proba(D1_X)[:, 1]\n",
        "ATE_1"
      ],
      "metadata": {
        "colab": {
          "base_uri": "https://localhost:8080/"
        },
        "id": "QWc6zvm-Arr9",
        "outputId": "88efabfa-416d-44fb-ea89-62f7ddd433fa"
      },
      "id": "QWc6zvm-Arr9",
      "execution_count": null,
      "outputs": [
        {
          "output_type": "execute_result",
          "data": {
            "text/plain": [
              "array([-0.015787  , -0.034179  ,  0.17050462, ...,  0.08378823,\n",
              "       -0.08230849, -0.00159185])"
            ]
          },
          "metadata": {},
          "execution_count": 19
        }
      ]
    },
    {
      "cell_type": "code",
      "source": [
        "ATE_values"
      ],
      "metadata": {
        "colab": {
          "base_uri": "https://localhost:8080/"
        },
        "id": "7pIGjf6IAvQH",
        "outputId": "6595ae59-d71d-4d6d-bec7-bb0ce943a6d0"
      },
      "id": "7pIGjf6IAvQH",
      "execution_count": null,
      "outputs": [
        {
          "output_type": "execute_result",
          "data": {
            "text/plain": [
              "array([-0.015787  , -0.034179  ,  0.17050462, ..., -0.08230145,\n",
              "        0.03768636,  0.02316861])"
            ]
          },
          "metadata": {},
          "execution_count": 23
        }
      ]
    },
    {
      "cell_type": "markdown",
      "id": "48812e46-cded-4620-9bc0-35d474a8f2ab",
      "metadata": {
        "id": "48812e46-cded-4620-9bc0-35d474a8f2ab"
      },
      "source": [
        "The ATE is"
      ]
    },
    {
      "cell_type": "code",
      "execution_count": null,
      "id": "ddf0e76b",
      "metadata": {
        "id": "ddf0e76b",
        "outputId": "646ff21d-f537-441e-deab-007ad3d9b31e"
      },
      "outputs": [
        {
          "data": {
            "text/plain": [
              "0.034027523972360085"
            ]
          },
          "execution_count": 14,
          "metadata": {},
          "output_type": "execute_result"
        }
      ],
      "source": [
        "ATE_values.mean()"
      ]
    }
  ],
  "metadata": {
    "kernelspec": {
      "display_name": "Python 3 (ipykernel)",
      "language": "python",
      "name": "python3"
    },
    "language_info": {
      "codemirror_mode": {
        "name": "ipython",
        "version": 3
      },
      "file_extension": ".py",
      "mimetype": "text/x-python",
      "name": "python",
      "nbconvert_exporter": "python",
      "pygments_lexer": "ipython3",
      "version": "3.11.9"
    },
    "colab": {
      "provenance": [],
      "include_colab_link": true
    }
  },
  "nbformat": 4,
  "nbformat_minor": 5
}